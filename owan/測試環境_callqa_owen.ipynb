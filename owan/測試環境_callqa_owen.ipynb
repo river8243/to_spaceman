{
 "cells": [
  {
   "cell_type": "code",
   "execution_count": 3,
   "metadata": {},
   "outputs": [],
   "source": [
    "import os\n",
    "import tgt\n",
    "from parselmouth.praat import call\n",
    "\n",
    "class PraatTextgrid(object):\n",
    "    def __init__(self, name):\n",
    "        self.name = name\n",
    "\n",
    "    @staticmethod\n",
    "    def get_tiernames_from_tgfile(read_file):\n",
    "        tg = tgt.read_textgrid(read_file, encoding='utf-16')\n",
    "        tier_names = [tier.name for tier in tg.tiers]\n",
    "        return tg, tier_names\n",
    "        \n",
    "    @staticmethod\n",
    "    def read_tier_from_tg(tg, tier_name):\n",
    "        tag_tier = tg.get_tier_by_name(tier_name)\n",
    "        return tag_tier\n",
    "\n",
    "    @staticmethod\n",
    "    def write_tgfile(outfile, tiers):\n",
    "        tg = tgt.core.TextGrid()\n",
    "        for tier in tiers:\n",
    "            tg.add_tier(tier)\n",
    "        tgt.io.write_to_file(tg, outfile, format = 'long', encoding='utf-8')\n",
    "\n",
    "    @staticmethod\n",
    "    def create_interval_tier(start_time, end_time, name, intervals):\n",
    "        tier = tgt.core.IntervalTier(start_time, end_time, name)\n",
    "        for interval in intervals:\n",
    "            # interval = [start_time, end_time, text]\n",
    "            annotation = tgt.core.Interval(interval[0], interval[1], interval[2])\n",
    "            tier.add_interval(annotation)\n",
    "        return tier\n",
    "\n",
    "    @staticmethod\n",
    "    def create_point_tier(start_time, end_time, name, points):\n",
    "        tier = tgt.core.IntervalTier(start_time, end_time, name)\n",
    "        for interval in intervals:\n",
    "            # interval = [time, text]\n",
    "            annotation = tgt.core.Interval(interval[0], interval[1])\n",
    "            tier.add_interval(annotation)\n",
    "        return tier\n",
    "        \n",
    "    @staticmethod\n",
    "    def create_silence_tg(wav_path, output_sil_tg_path):\n",
    "        wav_praat_read = call('Read from file', wav_path)\n",
    "        sil_tier = call(wav_praat_read, 'To TextGrid (silences)', 100, 0, -25, 0.1, 0.1, \"SIL\", \"\")\n",
    "        output = call(sil_tier, 'Write to text file', output_sil_tg_path)\n",
    "    \n",
    "    @staticmethod\n",
    "    def get_wave_duration(wav_file):\n",
    "        import sox\n",
    "        duration = sox.file_info.duration(wav_file)\n",
    "        return duration"
   ]
  },
  {
   "cell_type": "code",
   "execution_count": 98,
   "metadata": {},
   "outputs": [
    {
     "name": "stdout",
     "output_type": "stream",
     "text": [
      "1 -1\n",
      "1 1\n",
      "1 1\n",
      "1 1\n",
      "1 1\n",
      "1 1\n",
      "1 1\n",
      "1 1\n",
      "1 1\n",
      "1 1\n",
      "1 1\n",
      "1 1\n",
      "1 1\n",
      "1 1\n",
      "1 1\n",
      "1 1\n",
      "1 1\n",
      "1 1\n",
      "1 1\n",
      "1 1\n",
      "1 1\n",
      "1 1\n",
      "1 1\n",
      "1 1\n"
     ]
    },
    {
     "ename": "IndexError",
     "evalue": "pop from empty list",
     "output_type": "error",
     "traceback": [
      "\u001b[0;31m---------------------------------------------------------------------------\u001b[0m",
      "\u001b[0;31mIndexError\u001b[0m                                Traceback (most recent call last)",
      "\u001b[0;32m<ipython-input-98-c3d6b3b77e00>\u001b[0m in \u001b[0;36m<module>\u001b[0;34m\u001b[0m\n\u001b[1;32m     33\u001b[0m         \u001b[0;32melif\u001b[0m \u001b[0mlast_signal\u001b[0m \u001b[0;34m==\u001b[0m \u001b[0;36m1\u001b[0m\u001b[0;34m:\u001b[0m\u001b[0;34m\u001b[0m\u001b[0;34m\u001b[0m\u001b[0m\n\u001b[1;32m     34\u001b[0m             \u001b[0mcust_sentences\u001b[0m \u001b[0;34m+=\u001b[0m \u001b[0mcust_sentence\u001b[0m\u001b[0;34m.\u001b[0m\u001b[0mtext\u001b[0m\u001b[0;34m\u001b[0m\u001b[0;34m\u001b[0m\u001b[0m\n\u001b[0;32m---> 35\u001b[0;31m             \u001b[0mcust_sentence\u001b[0m \u001b[0;34m=\u001b[0m \u001b[0mcust_annotation\u001b[0m\u001b[0;34m.\u001b[0m\u001b[0mpop\u001b[0m\u001b[0;34m(\u001b[0m\u001b[0;36m0\u001b[0m\u001b[0;34m)\u001b[0m\u001b[0;34m\u001b[0m\u001b[0;34m\u001b[0m\u001b[0m\n\u001b[0m\u001b[1;32m     36\u001b[0m \u001b[0;34m\u001b[0m\u001b[0m\n\u001b[1;32m     37\u001b[0m         \u001b[0mlast_signal\u001b[0m \u001b[0;34m=\u001b[0m \u001b[0mthis_signal\u001b[0m\u001b[0;34m\u001b[0m\u001b[0;34m\u001b[0m\u001b[0m\n",
      "\u001b[0;31mIndexError\u001b[0m: pop from empty list"
     ]
    }
   ],
   "source": [
    "dir_path = '/home/jovyan/wm-insur-call-qa/insur_data_202012_result/20201201'\n",
    "file_list = os.listdir(dir_path)\n",
    "\n",
    "\n",
    "\n",
    "for file_name in file_list[1:]:\n",
    "    test_read_tg = os.path.join(f'{dir_path}/{file_name}')\n",
    "    textgrid, tier_names = PraatTextgrid.get_tiernames_from_tgfile(test_read_tg)\n",
    "\n",
    "    if not ('Esun' or 'customer') in tier_names:   # [ ] 確認\n",
    "        continue\n",
    "\n",
    "    esun_annotation = PraatTextgrid.read_tier_from_tg(textgrid, 'Esun').annotations\n",
    "    cust_annotation = PraatTextgrid.read_tier_from_tg(textgrid, 'customer').annotations\n",
    "    \n",
    "    init, last_signal = 1, -1\n",
    "    esun_sentences, cust_sentences = '', ''\n",
    "    while esun_annotation or cust_annotation:\n",
    "        if init:\n",
    "            esun_sentence = esun_annotation.pop(0)\n",
    "            cust_sentence = cust_annotation.pop(0)\n",
    "\n",
    "        # print('###', esun_annotation, cust_annotation)\n",
    "        this_signal = 0 if esun_sentence.start_time > cust_sentence.start_time else 1\n",
    "        print(this_signal, last_signal)   \n",
    "        if this_signal == 0 and last_signal == 1:\n",
    "            print('#RST', esun_sentences, '/', cust_sentences)\n",
    "            esun_sentences, cust_sentences = '', ''\n",
    "        elif last_signal == 0:    \n",
    "            esun_sentences += esun_sentence.text\n",
    "            esun_sentence = esun_annotation.pop(0)\n",
    "        elif last_signal == 1:\n",
    "            cust_sentences += cust_sentence.text\n",
    "            cust_sentence = cust_annotation.pop(0)\n",
    "        \n",
    "        last_signal = this_signal\n",
    "        init = None \n",
    "    break"
   ]
  },
  {
   "cell_type": "code",
   "execution_count": 22,
   "metadata": {},
   "outputs": [],
   "source": [
    "import pandas as pd\n",
    "def show_result(df):\n",
    "    tmp_df = df.loc[df['sd_type']=='no_vad', 'Esun_correct_rate']\n",
    "    print('[no_vad / esun    ] mean:', tmp_df.mean(),'std:', tmp_df.std())\n",
    "    tmp_df = df.loc[df['sd_type']=='vad', 'Esun_correct_rate']\n",
    "    print('[   vad / esun    ] mean:', tmp_df.mean(),'std:', tmp_df.std())\n",
    "    tmp_df = df.loc[df['sd_type']=='no_vad', 'customer_correct_rate']\n",
    "    print('[no_vad / customer] mean:', tmp_df.mean(),'std:', tmp_df.std())\n",
    "    tmp_df = df.loc[df['sd_type']=='vad', 'customer_correct_rate']\n",
    "    print('[   vad / customer] mean:', tmp_df.mean(),'std:', tmp_df.std())"
   ]
  },
  {
   "cell_type": "code",
   "execution_count": 23,
   "metadata": {},
   "outputs": [
    {
     "name": "stdout",
     "output_type": "stream",
     "text": [
      "[no_vad / esun    ] mean: 0.8298963464907404 std: 0.12329809665218401\n",
      "[   vad / esun    ] mean: 0.8285688350130987 std: 0.09464108524220206\n",
      "[no_vad / customer] mean: 0.3937373569934391 std: 0.28183126833313177\n",
      "[   vad / customer] mean: 0.23202619141583336 std: 0.2229519530109746\n"
     ]
    }
   ],
   "source": [
    "df = pd.read_csv('/home/jovyan/wm-insur-call-qa/owen/data/eval_total_model_1s.tsv', sep='\\t')\n",
    "show_result(df)"
   ]
  },
  {
   "cell_type": "code",
   "execution_count": 26,
   "metadata": {},
   "outputs": [
    {
     "name": "stdout",
     "output_type": "stream",
     "text": [
      "[no_vad / esun    ] mean: 0.8516633511905198 std: 0.15049344485321198\n",
      "[   vad / esun    ] mean: 0.7573187828600317 std: 0.1390150815065076\n",
      "[no_vad / customer] mean: 0.40393234780261933 std: 0.33978014850617216\n",
      "[   vad / customer] mean: 0.2906984633769666 std: 0.20514428840189006\n"
     ]
    }
   ],
   "source": [
    "df = pd.read_csv('/home/jovyan/wm-insur-call-qa/owen/data/eval_total_model_1s_with_400p_and_hr.tsv', sep='\\t')\n",
    "show_result(df)\n"
   ]
  },
  {
   "cell_type": "code",
   "execution_count": 27,
   "metadata": {},
   "outputs": [
    {
     "name": "stdout",
     "output_type": "stream",
     "text": [
      "[no_vad / esun    ] mean: 0.8945761694952284 std: 0.08565990084317135\n",
      "[   vad / esun    ] mean: 0.7397765170649842 std: 0.11549236429488308\n",
      "[no_vad / customer] mean: 0.46773202078346593 std: 0.30970211600506375\n",
      "[   vad / customer] mean: 0.3286975297803478 std: 0.24300114799176095\n"
     ]
    }
   ],
   "source": [
    "df = pd.read_csv('/home/jovyan/wm-insur-call-qa/owen/data/eval_total_model_1s_margin1_ep100_ppl8.tsv', sep='\\t')\n",
    "show_result(df)"
   ]
  },
  {
   "cell_type": "code",
   "execution_count": 28,
   "metadata": {},
   "outputs": [
    {
     "name": "stdout",
     "output_type": "stream",
     "text": [
      "[no_vad / esun    ] mean: 0.8658877240172569 std: 0.10512343105063517\n",
      "[   vad / esun    ] mean: 0.8109129074258384 std: 0.10202844495383796\n",
      "[no_vad / customer] mean: 0.504540506893644 std: 0.2867028350502723\n",
      "[   vad / customer] mean: 0.26126618261050294 std: 0.2627614289366204\n"
     ]
    }
   ],
   "source": [
    "df = pd.read_csv('/home/jovyan/wm-insur-call-qa/owen/data/eval_total_model_1s_margin1_ep100_fine_tune_8.tsv', sep='\\t')\n",
    "show_result(df)"
   ]
  },
  {
   "cell_type": "code",
   "execution_count": 29,
   "metadata": {},
   "outputs": [
    {
     "name": "stdout",
     "output_type": "stream",
     "text": [
      "[no_vad / esun    ] mean: 0.8821807629925459 std: 0.13010822036431746\n",
      "[   vad / esun    ] mean: 0.776316854624083 std: 0.11931582475916283\n",
      "[no_vad / customer] mean: 0.4273188635239333 std: 0.34767367432027835\n",
      "[   vad / customer] mean: 0.2818870022473118 std: 0.20915927038026147\n"
     ]
    }
   ],
   "source": [
    "df = pd.read_csv('/home/jovyan/wm-insur-call-qa/owen/data/eval_total_model_1s_margin1_ep100_fine_tune_733.tsv', sep='\\t')\n",
    "show_result(df)"
   ]
  },
  {
   "cell_type": "code",
   "execution_count": 15,
   "metadata": {},
   "outputs": [
    {
     "data": {
      "text/plain": [
       "2"
      ]
     },
     "execution_count": 15,
     "metadata": {},
     "output_type": "execute_result"
    }
   ],
   "source": [
    "a = [1, 3, 4, 6, 7]\n",
    "# for x in range(0, len(a), 2):\n",
    "#     print(x)"
   ]
  },
  {
   "cell_type": "code",
   "execution_count": null,
   "metadata": {},
   "outputs": [],
   "source": []
  },
  {
   "cell_type": "markdown",
   "metadata": {},
   "source": [
    "### 音檔去重\n"
   ]
  },
  {
   "cell_type": "code",
   "execution_count": 4,
   "metadata": {},
   "outputs": [],
   "source": [
    "import sys\n",
    "\n",
    "sys.path.append('/home/jovyan/wm-insur-call-qa/owen/evaluation')\n",
    "from textgrid_open import get_textgrid_dict"
   ]
  },
  {
   "cell_type": "code",
   "execution_count": 5,
   "metadata": {},
   "outputs": [
    {
     "data": {
      "text/plain": [
       "{'Esun': {'times': [[12.717797714514836, 17.77037389735365],\n",
       "   [17.77037389735365, 20.0403718925421],\n",
       "   [21.94424117882919, 22.70090717722534],\n",
       "   [24.89767943063352, 25.31262530072173],\n",
       "   [26.248772168433277, 28.909307453116515],\n",
       "   [29.910059257446907, 30.655749999999998],\n",
       "   [30.655749999999998, 36.64682750123199],\n",
       "   [36.64682750123199, 41.455317878136555],\n",
       "   [46.856875, 51.65790420650623],\n",
       "   [51.65790420650623, 55.68532000442122],\n",
       "   [55.68532000442122, 59.248972771061155],\n",
       "   [59.248972771061155, 64.275],\n",
       "   [64.275, 66.2784435685288],\n",
       "   [69.178375, 73.30811477943497],\n",
       "   [75.94424148352479, 81.70897690615362],\n",
       "   [81.70897690615362, 84.83327522211191],\n",
       "   [84.83327522211191, 86.63048866150059],\n",
       "   [90.04768994457997, 90.53586155644845],\n",
       "   [93.78220277537388, 99.37176773126801],\n",
       "   [99.37176773126801, 101.64176572645647],\n",
       "   [102.52047462781974, 104.18025810817258]],\n",
       "  'texts': ['呃您好,這裡是玉山銀行總行保險代理部,敝姓張,員工編號二一一三七',\n",
       "   '請問是余以萱小姐本人嗎',\n",
       "   '您好,要跟您',\n",
       "   '呃',\n",
       "   '呃不會,大概一分鐘,請問可以嗎',\n",
       "   '呃好的',\n",
       "   '那這邊要跟您做個訊息通知,那為了維護您的資料安全,跟您簡單核對基本資料',\n",
       "   '請呃,您的身分證字號是f二二六六一三,請問後三碼是',\n",
       "   '好謝謝您,呃那余小姐是這樣的,因為我們每個月皆會寄送保險對帳單',\n",
       "   '那這邊要通知一下,就是您前月份的保險對帳單寄送失敗,',\n",
       "   '那想要跟您確認一下您在本行留存最新的地址是',\n",
       "   '新北市三重區仁行街五十六巷三號二樓',\n",
       "   '呃要改了嗎?好那麼',\n",
       "   '呃所以就是上次,之前有已經有做過更改了嗎',\n",
       "   '呃因為我們這邊只是做個訊息通知,那如果要更改,可能就是要麻煩您透過網路銀行',\n",
       "   '行動銀行,臨櫃或是客服中心做更改',\n",
       "   '對那這邊就是提醒您',\n",
       "   '嗯',\n",
       "   '呃是因為我們這邊就是跟您告知一下,那可能對對對',\n",
       "   '好那這邊不好意思打擾您噢',\n",
       "   '好謝謝您噢掰掰']},\n",
       " 'customer': {'times': [[11.863497393744987, 12.717797714514836],\n",
       "   [20.821446471531676, 26.045875],\n",
       "   [28.909307453116515, 30.655749999999998],\n",
       "   [42.041123812378736, 46.856875],\n",
       "   [62.714991215327395, 69.178375],\n",
       "   [73.82069497189688, 75.94424148352479],\n",
       "   [86.2399513720058, 93.78220277537388],\n",
       "   [97.41908128379407, 99.37176773126801],\n",
       "   [101.83703437120386, 102.95982907850137]],\n",
       "  'texts': ['喂你好',\n",
       "   '對我是,呃請問你會,你會說很久嗎,因為我正在會議中',\n",
       "   '好,請說請說',\n",
       "   '欸等一下,二二六六一噢,二二六六一三四七零',\n",
       "   '不是不是,那要改,那個要改,我上一次有跟客服講,但是他好像沒給到你那邊',\n",
       "   '對沒關係我現在跟你講可以嗎',\n",
       "   '呃呃上一次客服有跟我聯繫過,他是要我改,但是我問他說是保單的東西,他說要叫我跟保單的人聯絡欸',\n",
       "   '只是照會而已,好ok',\n",
       "   '沒關係謝謝']}}"
      ]
     },
     "execution_count": 5,
     "metadata": {},
     "output_type": "execute_result"
    }
   ],
   "source": [
    "conversation = get_textgrid_dict('/home/jovyan/wm-insur-call-qa/insur_data_202012_result/20201203/220R0000000127160697593000042.TextGrid')\n",
    "conversation"
   ]
  },
  {
   "cell_type": "code",
   "execution_count": 6,
   "metadata": {},
   "outputs": [
    {
     "data": {
      "text/plain": [
       "([[12.717797714514836, 17.77037389735365],\n",
       "  [17.77037389735365, 20.0403718925421],\n",
       "  [21.94424117882919, 22.70090717722534],\n",
       "  [24.89767943063352, 25.31262530072173],\n",
       "  [26.248772168433277, 28.909307453116515],\n",
       "  [29.910059257446907, 30.655749999999998],\n",
       "  [30.655749999999998, 36.64682750123199],\n",
       "  [36.64682750123199, 41.455317878136555],\n",
       "  [46.856875, 51.65790420650623],\n",
       "  [51.65790420650623, 55.68532000442122],\n",
       "  [55.68532000442122, 59.248972771061155],\n",
       "  [59.248972771061155, 64.275],\n",
       "  [64.275, 66.2784435685288],\n",
       "  [69.178375, 73.30811477943497],\n",
       "  [75.94424148352479, 81.70897690615362],\n",
       "  [81.70897690615362, 84.83327522211191],\n",
       "  [84.83327522211191, 86.63048866150059],\n",
       "  [90.04768994457997, 90.53586155644845],\n",
       "  [93.78220277537388, 99.37176773126801],\n",
       "  [99.37176773126801, 101.64176572645647],\n",
       "  [102.52047462781974, 104.18025810817258]],\n",
       " [[11.863497393744987, 12.717797714514836],\n",
       "  [20.821446471531676, 26.045875],\n",
       "  [28.909307453116515, 30.655749999999998],\n",
       "  [42.041123812378736, 46.856875],\n",
       "  [62.714991215327395, 69.178375],\n",
       "  [73.82069497189688, 75.94424148352479],\n",
       "  [86.2399513720058, 93.78220277537388],\n",
       "  [97.41908128379407, 99.37176773126801],\n",
       "  [101.83703437120386, 102.95982907850137]])"
      ]
     },
     "execution_count": 6,
     "metadata": {},
     "output_type": "execute_result"
    }
   ],
   "source": [
    "esun_time = conversation['Esun']['times']\n",
    "cust_time = conversation['customer']['times']\n",
    "esun_time, cust_time"
   ]
  },
  {
   "cell_type": "code",
   "execution_count": 36,
   "metadata": {},
   "outputs": [],
   "source": [
    "import numpy as np\n",
    "import math\n",
    "def determine_abs(x, y):\n",
    "    x, y = [i+1 if i == 0 else i for i in [x, y]]\n",
    "    return np.sign(x * y)"
   ]
  },
  {
   "cell_type": "code",
   "execution_count": 38,
   "metadata": {},
   "outputs": [
    {
     "data": {
      "text/plain": [
       "[(12.717797714514836, 17.77037389735365),\n",
       " (17.77037389735365, 20.0403718925421),\n",
       " (26.248772168433277, 28.909307453116515),\n",
       " (30.655749999999998, 36.64682750123199),\n",
       " (36.64682750123199, 41.455317878136555),\n",
       " (46.856875, 51.65790420650623),\n",
       " (51.65790420650623, 55.68532000442122),\n",
       " (55.68532000442122, 59.248972771061155),\n",
       " (59.248972771061155, 62.714991215327395),\n",
       " (69.178375, 73.30811477943497),\n",
       " (75.94424148352479, 81.70897690615362),\n",
       " (81.70897690615362, 84.83327522211191),\n",
       " (84.83327522211191, 86.2399513720058),\n",
       " (93.78220277537388, 97.41908128379407),\n",
       " (99.37176773126801, 101.64176572645647),\n",
       " (102.95982907850137, 104.18025810817258)]"
      ]
     },
     "execution_count": 38,
     "metadata": {},
     "output_type": "execute_result"
    }
   ],
   "source": [
    "\n",
    "x_time, y_time = esun_time, cust_time\n",
    "\n",
    "def get_non_overlapping_time(x_time, y_time):\n",
    "    only_x_time = []\n",
    "    for x_start, x_end in x_time:\n",
    "        revised_tag = False\n",
    "        for y_start, y_end in y_time:\n",
    "            if x_end <= y_start or y_end <= x_start:\n",
    "                continue\n",
    "            revised_tag = True\n",
    "            y_start_relative = determine_abs(*[y_start - e for e in [x_start, x_end]])\n",
    "            y_end_relative = determine_abs(*[y_end - e for e in [x_start, x_end]])\n",
    "            if (y_start_relative, y_end_relative) == (-1, -1):\n",
    "                only_x_time.append((x_start, y_start))\n",
    "                only_x_time.append((y_end, x_end))\n",
    "            elif (y_start_relative, y_end_relative) == (-1, 1):\n",
    "                only_x_time.append((x_start, y_start))\n",
    "            elif (y_start_relative, y_end_relative) == (1, -1):\n",
    "                only_x_time.append((y_end, x_end))\n",
    "            else:\n",
    "                # 完全被覆蓋\n",
    "                pass\n",
    "        if not revised_tag:\n",
    "            only_x_time.append((x_start, x_end))\n",
    "    return only_x_time\n",
    "\n",
    "get_non_overlapping_time"
   ]
  },
  {
   "cell_type": "code",
   "execution_count": null,
   "metadata": {},
   "outputs": [],
   "source": []
  }
 ],
 "metadata": {
  "file_extension": ".py",
  "kernelspec": {
   "display_name": "Python 3",
   "language": "python",
   "name": "python3"
  },
  "language_info": {
   "codemirror_mode": {
    "name": "ipython",
    "version": 3
   },
   "file_extension": ".py",
   "mimetype": "text/x-python",
   "name": "python",
   "nbconvert_exporter": "python",
   "pygments_lexer": "ipython3",
   "version": "3.6.11-final"
  },
  "mimetype": "text/x-python",
  "name": "python",
  "npconvert_exporter": "python",
  "pygments_lexer": "ipython3",
  "version": 3
 },
 "nbformat": 4,
 "nbformat_minor": 4
}
