{
 "cells": [
  {
   "cell_type": "code",
   "execution_count": 8,
   "metadata": {},
   "outputs": [],
   "source": [
    "from random import shuffle, sample\n",
    "from collections import defaultdict\n",
    "from tqdm import tqdm\n",
    "import pickle\n",
    "import time"
   ]
  },
  {
   "cell_type": "code",
   "execution_count": 1,
   "metadata": {},
   "outputs": [],
   "source": [
    "\n",
    "groups_1 = list(range(0, 4))\n",
    "groups_2 = list(range(4, 8))\n",
    "groups_3 = list(range(8, 408))\n",
    "groups_4 = list(range(408, 733))\n",
    "\n",
    "train, valid, test = [], [], []\n",
    "shuffle(groups_1), shuffle(groups_2), shuffle(groups_3), shuffle(groups_4)\n",
    "train = groups_1[:2] + groups_2[:2] + groups_3[:int(400*0.7)] + groups_4[:int(325*0.7)]\n",
    "valid = [groups_1[2]] + [groups_2[2]] + groups_3[int(400*0.7):int(400*0.8)] + groups_4[int(325*0.7):int(325*0.8)]\n",
    "test = [groups_1[3]] + [groups_2[3]] + groups_3[int(400*0.8):] + groups_4[int(325*0.8):]"
   ]
  },
  {
   "cell_type": "code",
   "execution_count": 2,
   "metadata": {},
   "outputs": [],
   "source": [
    "with open('/project/wm-insur-call-qa/owen/triplet_loss/X_data_1s.pkl', 'rb') as f:\n",
    "    X, y = pickle.load(f)\n",
    "y = [y_head.tolist().index(1) for y_head in y]"
   ]
  },
  {
   "cell_type": "code",
   "execution_count": 3,
   "metadata": {},
   "outputs": [
    {
     "name": "stderr",
     "output_type": "stream",
     "text": [
      "206963it [04:32, 760.10it/s]\n"
     ]
    }
   ],
   "source": [
    "speaker_dict = defaultdict(list)\n",
    "for X_head, y_head in tqdm(zip(X, y)):\n",
    "    speaker_dict[y_head] += [X_head.tolist()]\n"
   ]
  },
  {
   "cell_type": "code",
   "execution_count": 4,
   "metadata": {},
   "outputs": [
    {
     "name": "stderr",
     "output_type": "stream",
     "text": [
      "100%|██████████| 511/511 [00:00<00:00, 211620.20it/s]\n",
      "100%|██████████| 75/75 [00:00<00:00, 169947.49it/s]\n",
      "100%|██████████| 147/147 [00:00<00:00, 226844.26it/s]\n"
     ]
    }
   ],
   "source": [
    "train_dict, valid_dict, test_dict = defaultdict(list), defaultdict(list), defaultdict(list)\n",
    "\n",
    "for i in tqdm(train):\n",
    "    train_dict[i] = speaker_dict[i]\n",
    "for i in tqdm(valid):\n",
    "    valid_dict[i] = speaker_dict[i]\n",
    "for i in tqdm(test):\n",
    "    test_dict[i] = speaker_dict[i]"
   ]
  },
  {
   "cell_type": "code",
   "execution_count": 6,
   "metadata": {},
   "outputs": [],
   "source": [
    "import json\n",
    "with open('tdnn_data_train.pkl', 'wb') as fw:\n",
    "    pickle.dump(train_dict, fw)\n",
    "# with open('tdnn_data_valid.pkl', 'wb') as fw:\n",
    "#     pickle.dump(valid_dict,  fw)\n",
    "with open('tdnn_data_test.json', 'w') as fw:\n",
    "    json.dump(test_dict, fw)"
   ]
  },
  {
   "cell_type": "code",
   "execution_count": null,
   "metadata": {},
   "outputs": [],
   "source": [
    "with open('tdnn_data_valid.pkl', 'rb') as fr:\n",
    "    start = time.time()\n",
    "    valid_dict = pickle.load(fr)\n",
    "\n",
    "    print(time.time()-start)"
   ]
  },
  {
   "cell_type": "code",
   "execution_count": 16,
   "metadata": {},
   "outputs": [
    {
     "data": {
      "text/plain": [
       "1953"
      ]
     },
     "execution_count": 16,
     "metadata": {},
     "output_type": "execute_result"
    }
   ],
   "source": [
    "len(valid_dict[0])"
   ]
  },
  {
   "cell_type": "code",
   "execution_count": null,
   "metadata": {},
   "outputs": [],
   "source": []
  }
 ],
 "metadata": {
  "file_extension": ".py",
  "kernelspec": {
   "display_name": "Python 3",
   "name": "python3"
  },
  "language_info": {
   "codemirror_mode": {
    "name": "ipython",
    "version": 3
   },
   "name": "python",
   "version": "3.6.11-final"
  },
  "mimetype": "text/x-python",
  "name": "python",
  "npconvert_exporter": "python",
  "pygments_lexer": "ipython3",
  "version": 3
 },
 "nbformat": 4,
 "nbformat_minor": 2
}
